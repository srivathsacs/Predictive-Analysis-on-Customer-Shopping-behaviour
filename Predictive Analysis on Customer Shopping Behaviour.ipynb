{
 "cells": [
  {
   "cell_type": "markdown",
   "metadata": {},
   "source": [
    "### Problem Understanding:\n",
    "    \n",
    "This challenge proposes a problem where a prediction is required to identify a shoper's likelihood to return to the stores considering his past shopping behaviour which would help the company to target specific customers by providing promotional offers,discounts etc which would in turn increase their revenue. \n",
    "\n",
    "Dataset contains customer id's with their different visits to the mall on different dates. Units purchased and total spend details are provided for each visit."
   ]
  },
  {
   "cell_type": "markdown",
   "metadata": {},
   "source": [
    "### Importing Libraries"
   ]
  },
  {
   "cell_type": "code",
   "execution_count": 1,
   "metadata": {},
   "outputs": [],
   "source": [
    "import pandas as pd\n",
    "import numpy as np \n",
    "import matplotlib.pyplot as plt\n",
    "import seaborn as sns\n",
    "import datetime as dt\n",
    "import os"
   ]
  },
  {
   "cell_type": "markdown",
   "metadata": {},
   "source": [
    "#### Importing data and specifying order_date as datetime object"
   ]
  },
  {
   "cell_type": "code",
   "execution_count": 2,
   "metadata": {},
   "outputs": [
    {
     "data": {
      "text/html": [
       "<div>\n",
       "<style scoped>\n",
       "    .dataframe tbody tr th:only-of-type {\n",
       "        vertical-align: middle;\n",
       "    }\n",
       "\n",
       "    .dataframe tbody tr th {\n",
       "        vertical-align: top;\n",
       "    }\n",
       "\n",
       "    .dataframe thead th {\n",
       "        text-align: right;\n",
       "    }\n",
       "</style>\n",
       "<table border=\"1\" class=\"dataframe\">\n",
       "  <thead>\n",
       "    <tr style=\"text-align: right;\">\n",
       "      <th></th>\n",
       "      <th>cust_id</th>\n",
       "      <th>order_date</th>\n",
       "      <th>lane_number</th>\n",
       "      <th>total_spend</th>\n",
       "      <th>units_purchased</th>\n",
       "    </tr>\n",
       "  </thead>\n",
       "  <tbody>\n",
       "    <tr>\n",
       "      <th>0</th>\n",
       "      <td>4239597436</td>\n",
       "      <td>2015-03-20</td>\n",
       "      <td>3</td>\n",
       "      <td>19.84</td>\n",
       "      <td>5</td>\n",
       "    </tr>\n",
       "    <tr>\n",
       "      <th>1</th>\n",
       "      <td>4913827536</td>\n",
       "      <td>2015-03-20</td>\n",
       "      <td>3</td>\n",
       "      <td>11.1</td>\n",
       "      <td>5</td>\n",
       "    </tr>\n",
       "    <tr>\n",
       "      <th>2</th>\n",
       "      <td>4913827536</td>\n",
       "      <td>2015-03-20</td>\n",
       "      <td>1</td>\n",
       "      <td>10</td>\n",
       "      <td>1</td>\n",
       "    </tr>\n",
       "    <tr>\n",
       "      <th>3</th>\n",
       "      <td>4271866537</td>\n",
       "      <td>2015-03-20</td>\n",
       "      <td>5</td>\n",
       "      <td>13.68</td>\n",
       "      <td>2</td>\n",
       "    </tr>\n",
       "    <tr>\n",
       "      <th>4</th>\n",
       "      <td>5316845735</td>\n",
       "      <td>2015-03-20</td>\n",
       "      <td>4</td>\n",
       "      <td>5.29</td>\n",
       "      <td>1</td>\n",
       "    </tr>\n",
       "  </tbody>\n",
       "</table>\n",
       "</div>"
      ],
      "text/plain": [
       "      cust_id order_date  lane_number total_spend  units_purchased\n",
       "0  4239597436 2015-03-20            3       19.84                5\n",
       "1  4913827536 2015-03-20            3        11.1                5\n",
       "2  4913827536 2015-03-20            1          10                1\n",
       "3  4271866537 2015-03-20            5       13.68                2\n",
       "4  5316845735 2015-03-20            4        5.29                1"
      ]
     },
     "execution_count": 2,
     "metadata": {},
     "output_type": "execute_result"
    }
   ],
   "source": [
    "%matplotlib inline\n",
    "dicPath = os.getcwd()\n",
    "dicPathData = os.path.join(dicPath,'dataset.csv')\n",
    "dataset = pd.read_csv(dicPathData ,parse_dates=['order_date'])\n",
    "dataset.head()"
   ]
  },
  {
   "cell_type": "markdown",
   "metadata": {},
   "source": [
    "### Data preprocessing"
   ]
  },
  {
   "cell_type": "markdown",
   "metadata": {},
   "source": [
    "#### 1) Type casting column"
   ]
  },
  {
   "cell_type": "code",
   "execution_count": 3,
   "metadata": {},
   "outputs": [
    {
     "data": {
      "text/plain": [
       "cust_id                     int64\n",
       "order_date         datetime64[ns]\n",
       "lane_number                 int64\n",
       "total_spend                object\n",
       "units_purchased             int64\n",
       "dtype: object"
      ]
     },
     "execution_count": 3,
     "metadata": {},
     "output_type": "execute_result"
    }
   ],
   "source": [
    "dataset.dtypes"
   ]
  },
  {
   "cell_type": "markdown",
   "metadata": {},
   "source": [
    "#### We can see that \"total_spend\" is of type \"object\".We need to convert into \"float\" type column."
   ]
  },
  {
   "cell_type": "code",
   "execution_count": 4,
   "metadata": {},
   "outputs": [
    {
     "data": {
      "text/plain": [
       "cust_id                     int64\n",
       "order_date         datetime64[ns]\n",
       "lane_number                 int64\n",
       "total_spend               float64\n",
       "units_purchased             int64\n",
       "dtype: object"
      ]
     },
     "execution_count": 4,
     "metadata": {},
     "output_type": "execute_result"
    }
   ],
   "source": [
    "dataset['total_spend'] = pd.to_numeric(dataset.total_spend, errors='coerce')\n",
    "dataset.dtypes"
   ]
  },
  {
   "cell_type": "markdown",
   "metadata": {},
   "source": [
    "#### 2) Checking for null values.If found replacing it with suitable statistic criteria"
   ]
  },
  {
   "cell_type": "code",
   "execution_count": 5,
   "metadata": {},
   "outputs": [
    {
     "data": {
      "text/plain": [
       "cust_id             0\n",
       "order_date          0\n",
       "lane_number         0\n",
       "total_spend        15\n",
       "units_purchased     0\n",
       "dtype: int64"
      ]
     },
     "execution_count": 5,
     "metadata": {},
     "output_type": "execute_result"
    }
   ],
   "source": [
    "dataset.isnull().sum()"
   ]
  },
  {
   "cell_type": "markdown",
   "metadata": {},
   "source": [
    "#### We can see there are missing values in total_spend column.We can replace missing values with mean"
   ]
  },
  {
   "cell_type": "code",
   "execution_count": 6,
   "metadata": {},
   "outputs": [],
   "source": [
    "dataset = dataset.fillna(dataset.mean())"
   ]
  },
  {
   "cell_type": "code",
   "execution_count": 7,
   "metadata": {},
   "outputs": [
    {
     "data": {
      "text/plain": [
       "cust_id            0\n",
       "order_date         0\n",
       "lane_number        0\n",
       "total_spend        0\n",
       "units_purchased    0\n",
       "dtype: int64"
      ]
     },
     "execution_count": 7,
     "metadata": {},
     "output_type": "execute_result"
    }
   ],
   "source": [
    "dataset.isnull().sum()"
   ]
  },
  {
   "cell_type": "markdown",
   "metadata": {},
   "source": [
    "#### Finding minimum and maximum date which would be used in later analysis"
   ]
  },
  {
   "cell_type": "code",
   "execution_count": 8,
   "metadata": {},
   "outputs": [
    {
     "data": {
      "text/plain": [
       "Timestamp('2015-03-20 00:00:00')"
      ]
     },
     "execution_count": 8,
     "metadata": {},
     "output_type": "execute_result"
    }
   ],
   "source": [
    "min_date = dataset['order_date'].min()\n",
    "min_date"
   ]
  },
  {
   "cell_type": "code",
   "execution_count": 9,
   "metadata": {},
   "outputs": [
    {
     "data": {
      "text/plain": [
       "Timestamp('2016-03-27 00:00:00')"
      ]
     },
     "execution_count": 9,
     "metadata": {},
     "output_type": "execute_result"
    }
   ],
   "source": [
    "max_date = dataset['order_date'].max()\n",
    "max_date"
   ]
  },
  {
   "cell_type": "markdown",
   "metadata": {},
   "source": [
    "#### Finding out the number of times customer went to the store on the paritcular date,so that it can be useful during predictive analysis in later stages"
   ]
  },
  {
   "cell_type": "code",
   "execution_count": 10,
   "metadata": {},
   "outputs": [],
   "source": [
    "dataset['count'] = dataset.groupby(['cust_id','order_date'])['cust_id'].transform('count')"
   ]
  },
  {
   "cell_type": "code",
   "execution_count": 11,
   "metadata": {},
   "outputs": [
    {
     "data": {
      "text/html": [
       "<div>\n",
       "<style scoped>\n",
       "    .dataframe tbody tr th:only-of-type {\n",
       "        vertical-align: middle;\n",
       "    }\n",
       "\n",
       "    .dataframe tbody tr th {\n",
       "        vertical-align: top;\n",
       "    }\n",
       "\n",
       "    .dataframe thead th {\n",
       "        text-align: right;\n",
       "    }\n",
       "</style>\n",
       "<table border=\"1\" class=\"dataframe\">\n",
       "  <thead>\n",
       "    <tr style=\"text-align: right;\">\n",
       "      <th></th>\n",
       "      <th>cust_id</th>\n",
       "      <th>order_date</th>\n",
       "      <th>lane_number</th>\n",
       "      <th>total_spend</th>\n",
       "      <th>units_purchased</th>\n",
       "      <th>count</th>\n",
       "    </tr>\n",
       "  </thead>\n",
       "  <tbody>\n",
       "    <tr>\n",
       "      <th>0</th>\n",
       "      <td>4239597436</td>\n",
       "      <td>2015-03-20</td>\n",
       "      <td>3</td>\n",
       "      <td>19.84</td>\n",
       "      <td>5</td>\n",
       "      <td>1</td>\n",
       "    </tr>\n",
       "    <tr>\n",
       "      <th>1</th>\n",
       "      <td>4913827536</td>\n",
       "      <td>2015-03-20</td>\n",
       "      <td>3</td>\n",
       "      <td>11.10</td>\n",
       "      <td>5</td>\n",
       "      <td>2</td>\n",
       "    </tr>\n",
       "    <tr>\n",
       "      <th>2</th>\n",
       "      <td>4913827536</td>\n",
       "      <td>2015-03-20</td>\n",
       "      <td>1</td>\n",
       "      <td>10.00</td>\n",
       "      <td>1</td>\n",
       "      <td>2</td>\n",
       "    </tr>\n",
       "    <tr>\n",
       "      <th>3</th>\n",
       "      <td>4271866537</td>\n",
       "      <td>2015-03-20</td>\n",
       "      <td>5</td>\n",
       "      <td>13.68</td>\n",
       "      <td>2</td>\n",
       "      <td>2</td>\n",
       "    </tr>\n",
       "    <tr>\n",
       "      <th>4</th>\n",
       "      <td>5316845735</td>\n",
       "      <td>2015-03-20</td>\n",
       "      <td>4</td>\n",
       "      <td>5.29</td>\n",
       "      <td>1</td>\n",
       "      <td>1</td>\n",
       "    </tr>\n",
       "  </tbody>\n",
       "</table>\n",
       "</div>"
      ],
      "text/plain": [
       "      cust_id order_date  lane_number  total_spend  units_purchased  count\n",
       "0  4239597436 2015-03-20            3        19.84                5      1\n",
       "1  4913827536 2015-03-20            3        11.10                5      2\n",
       "2  4913827536 2015-03-20            1        10.00                1      2\n",
       "3  4271866537 2015-03-20            5        13.68                2      2\n",
       "4  5316845735 2015-03-20            4         5.29                1      1"
      ]
     },
     "execution_count": 11,
     "metadata": {},
     "output_type": "execute_result"
    }
   ],
   "source": [
    "dataset.head()"
   ]
  },
  {
   "cell_type": "markdown",
   "metadata": {},
   "source": [
    "#### RFM (Recency, Frequency, & Monetary) Model\n",
    "    RFM model is a classic analytics and segmentation tool for identifying best customers.\n",
    "    \n",
    "    Fundamentals of RFM -\n",
    "        \n",
    "        1) have made a purchase recently,\n",
    "        2) make regular or frequent purchases with you,\n",
    "        3) spend a large amount with you, are more likely to return to the store.\n",
    "\n"
   ]
  },
  {
   "cell_type": "markdown",
   "metadata": {},
   "source": [
    "#### In our dataset we do not need to generate any new training or testing attributes as we can easily RFM on our data set,sicne we have the relavant information we need like \n",
    "    1) Recency - Order date is provided\n",
    "    2) Frequency - we have already computed frequencies(count) above\n",
    "    3) Montary value - Total spend and units purchased attributes are provided."
   ]
  },
  {
   "cell_type": "markdown",
   "metadata": {},
   "source": [
    "#### To calculate recency, we need to choose a date point from which we evaluate how many days ago was the customer's last purchase.The last date we have is 2016-03-27 and we will use it for our analysis."
   ]
  },
  {
   "cell_type": "code",
   "execution_count": 12,
   "metadata": {},
   "outputs": [],
   "source": [
    "NOW = dt.datetime(2016,3,27)"
   ]
  },
  {
   "cell_type": "code",
   "execution_count": 13,
   "metadata": {},
   "outputs": [
    {
     "data": {
      "text/html": [
       "<div>\n",
       "<style scoped>\n",
       "    .dataframe tbody tr th:only-of-type {\n",
       "        vertical-align: middle;\n",
       "    }\n",
       "\n",
       "    .dataframe tbody tr th {\n",
       "        vertical-align: top;\n",
       "    }\n",
       "\n",
       "    .dataframe thead th {\n",
       "        text-align: right;\n",
       "    }\n",
       "</style>\n",
       "<table border=\"1\" class=\"dataframe\">\n",
       "  <thead>\n",
       "    <tr style=\"text-align: right;\">\n",
       "      <th></th>\n",
       "      <th>recency</th>\n",
       "      <th>frequency</th>\n",
       "      <th>monetary_value</th>\n",
       "    </tr>\n",
       "    <tr>\n",
       "      <th>cust_id</th>\n",
       "      <th></th>\n",
       "      <th></th>\n",
       "      <th></th>\n",
       "    </tr>\n",
       "  </thead>\n",
       "  <tbody>\n",
       "    <tr>\n",
       "      <th>4005940437</th>\n",
       "      <td>0</td>\n",
       "      <td>202</td>\n",
       "      <td>2225.08</td>\n",
       "    </tr>\n",
       "    <tr>\n",
       "      <th>4005940737</th>\n",
       "      <td>5</td>\n",
       "      <td>7</td>\n",
       "      <td>63.15</td>\n",
       "    </tr>\n",
       "    <tr>\n",
       "      <th>4005941333</th>\n",
       "      <td>1</td>\n",
       "      <td>47</td>\n",
       "      <td>1359.24</td>\n",
       "    </tr>\n",
       "    <tr>\n",
       "      <th>4005941434</th>\n",
       "      <td>0</td>\n",
       "      <td>89</td>\n",
       "      <td>676.81</td>\n",
       "    </tr>\n",
       "    <tr>\n",
       "      <th>4005941533</th>\n",
       "      <td>2</td>\n",
       "      <td>79</td>\n",
       "      <td>2351.00</td>\n",
       "    </tr>\n",
       "  </tbody>\n",
       "</table>\n",
       "</div>"
      ],
      "text/plain": [
       "            recency  frequency  monetary_value\n",
       "cust_id                                       \n",
       "4005940437        0        202         2225.08\n",
       "4005940737        5          7           63.15\n",
       "4005941333        1         47         1359.24\n",
       "4005941434        0         89          676.81\n",
       "4005941533        2         79         2351.00"
      ]
     },
     "execution_count": 13,
     "metadata": {},
     "output_type": "execute_result"
    }
   ],
   "source": [
    "rfmTable = dataset.groupby('cust_id').agg({'order_date': lambda x: (NOW - x.max()).days, 'count': lambda x: len(x), 'total_spend': lambda x: x.sum()})\n",
    "rfmTable['order_date'] = rfmTable['order_date'].astype(int)\n",
    "rfmTable.rename(columns={'order_date': 'recency', \n",
    "                         'count': 'frequency', \n",
    "                         'total_spend': 'monetary_value'}, inplace=True)\n",
    "rfmTable.head()"
   ]
  },
  {
   "cell_type": "markdown",
   "metadata": {},
   "source": [
    "#### Above table shows the RFM table for each customer"
   ]
  },
  {
   "cell_type": "markdown",
   "metadata": {},
   "source": [
    "### Now we will divide the RFM table into various segments using quartiles which will help us in segmenting the customers"
   ]
  },
  {
   "cell_type": "code",
   "execution_count": 14,
   "metadata": {},
   "outputs": [],
   "source": [
    "quantiles = rfmTable.quantile(q=[0.25,0.5,0.75])\n",
    "quantiles = quantiles.to_dict()"
   ]
  },
  {
   "cell_type": "code",
   "execution_count": 15,
   "metadata": {},
   "outputs": [],
   "source": [
    "segmented_rfm = rfmTable"
   ]
  },
  {
   "cell_type": "markdown",
   "metadata": {},
   "source": [
    "#### Assigning RFM scores based on the quartiles,which will give insights for the important customers"
   ]
  },
  {
   "cell_type": "code",
   "execution_count": 16,
   "metadata": {},
   "outputs": [],
   "source": [
    "def RScore(x,p,d):\n",
    "    if x <= d[p][0.25]:\n",
    "        return 1\n",
    "    elif x <= d[p][0.50]:\n",
    "        return 2\n",
    "    elif x <= d[p][0.75]: \n",
    "        return 3\n",
    "    else:\n",
    "        return 4\n",
    "    \n",
    "def FMScore(x,p,d):\n",
    "    if x <= d[p][0.25]:\n",
    "        return 4\n",
    "    elif x <= d[p][0.50]:\n",
    "        return 3\n",
    "    elif x <= d[p][0.75]: \n",
    "        return 2\n",
    "    else:\n",
    "        return 1"
   ]
  },
  {
   "cell_type": "markdown",
   "metadata": {},
   "source": [
    "#### Applying these scores for segemented RFM table "
   ]
  },
  {
   "cell_type": "code",
   "execution_count": 17,
   "metadata": {},
   "outputs": [
    {
     "data": {
      "text/html": [
       "<div>\n",
       "<style scoped>\n",
       "    .dataframe tbody tr th:only-of-type {\n",
       "        vertical-align: middle;\n",
       "    }\n",
       "\n",
       "    .dataframe tbody tr th {\n",
       "        vertical-align: top;\n",
       "    }\n",
       "\n",
       "    .dataframe thead th {\n",
       "        text-align: right;\n",
       "    }\n",
       "</style>\n",
       "<table border=\"1\" class=\"dataframe\">\n",
       "  <thead>\n",
       "    <tr style=\"text-align: right;\">\n",
       "      <th></th>\n",
       "      <th>recency</th>\n",
       "      <th>frequency</th>\n",
       "      <th>monetary_value</th>\n",
       "      <th>r_quartile</th>\n",
       "      <th>f_quartile</th>\n",
       "      <th>m_quartile</th>\n",
       "    </tr>\n",
       "    <tr>\n",
       "      <th>cust_id</th>\n",
       "      <th></th>\n",
       "      <th></th>\n",
       "      <th></th>\n",
       "      <th></th>\n",
       "      <th></th>\n",
       "      <th></th>\n",
       "    </tr>\n",
       "  </thead>\n",
       "  <tbody>\n",
       "    <tr>\n",
       "      <th>4005940437</th>\n",
       "      <td>0</td>\n",
       "      <td>202</td>\n",
       "      <td>2225.08</td>\n",
       "      <td>1</td>\n",
       "      <td>1</td>\n",
       "      <td>1</td>\n",
       "    </tr>\n",
       "    <tr>\n",
       "      <th>4005940737</th>\n",
       "      <td>5</td>\n",
       "      <td>7</td>\n",
       "      <td>63.15</td>\n",
       "      <td>3</td>\n",
       "      <td>3</td>\n",
       "      <td>4</td>\n",
       "    </tr>\n",
       "    <tr>\n",
       "      <th>4005941333</th>\n",
       "      <td>1</td>\n",
       "      <td>47</td>\n",
       "      <td>1359.24</td>\n",
       "      <td>1</td>\n",
       "      <td>1</td>\n",
       "      <td>1</td>\n",
       "    </tr>\n",
       "    <tr>\n",
       "      <th>4005941434</th>\n",
       "      <td>0</td>\n",
       "      <td>89</td>\n",
       "      <td>676.81</td>\n",
       "      <td>1</td>\n",
       "      <td>1</td>\n",
       "      <td>1</td>\n",
       "    </tr>\n",
       "    <tr>\n",
       "      <th>4005941533</th>\n",
       "      <td>2</td>\n",
       "      <td>79</td>\n",
       "      <td>2351.00</td>\n",
       "      <td>2</td>\n",
       "      <td>1</td>\n",
       "      <td>1</td>\n",
       "    </tr>\n",
       "  </tbody>\n",
       "</table>\n",
       "</div>"
      ],
      "text/plain": [
       "            recency  frequency  monetary_value  r_quartile  f_quartile  \\\n",
       "cust_id                                                                  \n",
       "4005940437        0        202         2225.08           1           1   \n",
       "4005940737        5          7           63.15           3           3   \n",
       "4005941333        1         47         1359.24           1           1   \n",
       "4005941434        0         89          676.81           1           1   \n",
       "4005941533        2         79         2351.00           2           1   \n",
       "\n",
       "            m_quartile  \n",
       "cust_id                 \n",
       "4005940437           1  \n",
       "4005940737           4  \n",
       "4005941333           1  \n",
       "4005941434           1  \n",
       "4005941533           1  "
      ]
     },
     "execution_count": 17,
     "metadata": {},
     "output_type": "execute_result"
    }
   ],
   "source": [
    "segmented_rfm['r_quartile'] = segmented_rfm['recency'].apply(RScore, args=('recency',quantiles,))\n",
    "segmented_rfm['f_quartile'] = segmented_rfm['frequency'].apply(FMScore, args=('frequency',quantiles,))\n",
    "segmented_rfm['m_quartile'] = segmented_rfm['monetary_value'].apply(FMScore, args=('monetary_value',quantiles,))\n",
    "segmented_rfm.head()"
   ]
  },
  {
   "cell_type": "code",
   "execution_count": 18,
   "metadata": {},
   "outputs": [
    {
     "data": {
      "text/html": [
       "<div>\n",
       "<style scoped>\n",
       "    .dataframe tbody tr th:only-of-type {\n",
       "        vertical-align: middle;\n",
       "    }\n",
       "\n",
       "    .dataframe tbody tr th {\n",
       "        vertical-align: top;\n",
       "    }\n",
       "\n",
       "    .dataframe thead th {\n",
       "        text-align: right;\n",
       "    }\n",
       "</style>\n",
       "<table border=\"1\" class=\"dataframe\">\n",
       "  <thead>\n",
       "    <tr style=\"text-align: right;\">\n",
       "      <th></th>\n",
       "      <th>recency</th>\n",
       "      <th>frequency</th>\n",
       "      <th>monetary_value</th>\n",
       "      <th>r_quartile</th>\n",
       "      <th>f_quartile</th>\n",
       "      <th>m_quartile</th>\n",
       "      <th>RFMScore</th>\n",
       "    </tr>\n",
       "    <tr>\n",
       "      <th>cust_id</th>\n",
       "      <th></th>\n",
       "      <th></th>\n",
       "      <th></th>\n",
       "      <th></th>\n",
       "      <th></th>\n",
       "      <th></th>\n",
       "      <th></th>\n",
       "    </tr>\n",
       "  </thead>\n",
       "  <tbody>\n",
       "    <tr>\n",
       "      <th>4005940437</th>\n",
       "      <td>0</td>\n",
       "      <td>202</td>\n",
       "      <td>2225.08</td>\n",
       "      <td>1</td>\n",
       "      <td>1</td>\n",
       "      <td>1</td>\n",
       "      <td>111</td>\n",
       "    </tr>\n",
       "    <tr>\n",
       "      <th>4005940737</th>\n",
       "      <td>5</td>\n",
       "      <td>7</td>\n",
       "      <td>63.15</td>\n",
       "      <td>3</td>\n",
       "      <td>3</td>\n",
       "      <td>4</td>\n",
       "      <td>334</td>\n",
       "    </tr>\n",
       "    <tr>\n",
       "      <th>4005941333</th>\n",
       "      <td>1</td>\n",
       "      <td>47</td>\n",
       "      <td>1359.24</td>\n",
       "      <td>1</td>\n",
       "      <td>1</td>\n",
       "      <td>1</td>\n",
       "      <td>111</td>\n",
       "    </tr>\n",
       "    <tr>\n",
       "      <th>4005941434</th>\n",
       "      <td>0</td>\n",
       "      <td>89</td>\n",
       "      <td>676.81</td>\n",
       "      <td>1</td>\n",
       "      <td>1</td>\n",
       "      <td>1</td>\n",
       "      <td>111</td>\n",
       "    </tr>\n",
       "    <tr>\n",
       "      <th>4005941533</th>\n",
       "      <td>2</td>\n",
       "      <td>79</td>\n",
       "      <td>2351.00</td>\n",
       "      <td>2</td>\n",
       "      <td>1</td>\n",
       "      <td>1</td>\n",
       "      <td>211</td>\n",
       "    </tr>\n",
       "  </tbody>\n",
       "</table>\n",
       "</div>"
      ],
      "text/plain": [
       "            recency  frequency  monetary_value  r_quartile  f_quartile  \\\n",
       "cust_id                                                                  \n",
       "4005940437        0        202         2225.08           1           1   \n",
       "4005940737        5          7           63.15           3           3   \n",
       "4005941333        1         47         1359.24           1           1   \n",
       "4005941434        0         89          676.81           1           1   \n",
       "4005941533        2         79         2351.00           2           1   \n",
       "\n",
       "            m_quartile RFMScore  \n",
       "cust_id                          \n",
       "4005940437           1      111  \n",
       "4005940737           4      334  \n",
       "4005941333           1      111  \n",
       "4005941434           1      111  \n",
       "4005941533           1      211  "
      ]
     },
     "execution_count": 18,
     "metadata": {},
     "output_type": "execute_result"
    }
   ],
   "source": [
    "segmented_rfm['RFMScore'] = segmented_rfm.r_quartile.map(str) \\\n",
    "                            + segmented_rfm.f_quartile.map(str) \\\n",
    "                            + segmented_rfm.m_quartile.map(str)\n",
    "segmented_rfm.head()"
   ]
  },
  {
   "cell_type": "markdown",
   "metadata": {},
   "source": [
    "#### Finding the sum of RFM score for individual customer"
   ]
  },
  {
   "cell_type": "code",
   "execution_count": 19,
   "metadata": {},
   "outputs": [
    {
     "data": {
      "text/plain": [
       "cust_id\n",
       "4005940437     3\n",
       "4005940737    10\n",
       "4005941333     3\n",
       "4005941434     3\n",
       "4005941533     4\n",
       "Name: RFM_level_Score, dtype: int64"
      ]
     },
     "execution_count": 19,
     "metadata": {},
     "output_type": "execute_result"
    }
   ],
   "source": [
    "segmented_rfm['RFM_level_Score'] = segmented_rfm[['r_quartile','f_quartile','m_quartile']].sum(axis=1)\n",
    "segmented_rfm['RFM_level_Score'].head()"
   ]
  },
  {
   "cell_type": "markdown",
   "metadata": {},
   "source": [
    "#### Defining RFM level function which will assign the tag for the customers based on their RFM level score,whcih indicates whether the customer will return to the store or not"
   ]
  },
  {
   "cell_type": "code",
   "execution_count": 20,
   "metadata": {},
   "outputs": [],
   "source": [
    "# Define rfm_level function\n",
    "def rfm_level(segmented_rfm):\n",
    "    if segmented_rfm['RFM_level_Score'] >= 9:\n",
    "        return 'Can\\'t Loose Them'\n",
    "    elif ((segmented_rfm['RFM_level_Score'] >= 8) and (segmented_rfm['RFM_level_Score'] < 9)):\n",
    "        return 'Champions'\n",
    "    elif ((segmented_rfm['RFM_level_Score'] >= 7) and (segmented_rfm['RFM_level_Score'] < 8)):\n",
    "        return 'Loyal'\n",
    "    elif ((segmented_rfm['RFM_level_Score'] >= 6) and (segmented_rfm['RFM_level_Score'] < 7)):\n",
    "        return 'Potential'\n",
    "    elif ((segmented_rfm['RFM_level_Score'] >= 5) and (segmented_rfm['RFM_level_Score'] < 6)):\n",
    "        return 'Promising'\n",
    "    elif ((segmented_rfm['RFM_level_Score'] >= 4) and (segmented_rfm['RFM_level_Score'] < 5)):\n",
    "        return 'Needs Attention'\n",
    "    else:\n",
    "        return 'Require Activation'\n"
   ]
  },
  {
   "cell_type": "code",
   "execution_count": 21,
   "metadata": {},
   "outputs": [
    {
     "data": {
      "text/html": [
       "<div>\n",
       "<style scoped>\n",
       "    .dataframe tbody tr th:only-of-type {\n",
       "        vertical-align: middle;\n",
       "    }\n",
       "\n",
       "    .dataframe tbody tr th {\n",
       "        vertical-align: top;\n",
       "    }\n",
       "\n",
       "    .dataframe thead th {\n",
       "        text-align: right;\n",
       "    }\n",
       "</style>\n",
       "<table border=\"1\" class=\"dataframe\">\n",
       "  <thead>\n",
       "    <tr style=\"text-align: right;\">\n",
       "      <th></th>\n",
       "      <th>recency</th>\n",
       "      <th>frequency</th>\n",
       "      <th>monetary_value</th>\n",
       "      <th>r_quartile</th>\n",
       "      <th>f_quartile</th>\n",
       "      <th>m_quartile</th>\n",
       "      <th>RFMScore</th>\n",
       "      <th>RFM_level_Score</th>\n",
       "      <th>RFM_Level</th>\n",
       "    </tr>\n",
       "    <tr>\n",
       "      <th>cust_id</th>\n",
       "      <th></th>\n",
       "      <th></th>\n",
       "      <th></th>\n",
       "      <th></th>\n",
       "      <th></th>\n",
       "      <th></th>\n",
       "      <th></th>\n",
       "      <th></th>\n",
       "      <th></th>\n",
       "    </tr>\n",
       "  </thead>\n",
       "  <tbody>\n",
       "    <tr>\n",
       "      <th>4005940437</th>\n",
       "      <td>0</td>\n",
       "      <td>202</td>\n",
       "      <td>2225.08</td>\n",
       "      <td>1</td>\n",
       "      <td>1</td>\n",
       "      <td>1</td>\n",
       "      <td>111</td>\n",
       "      <td>3</td>\n",
       "      <td>Require Activation</td>\n",
       "    </tr>\n",
       "    <tr>\n",
       "      <th>4005940737</th>\n",
       "      <td>5</td>\n",
       "      <td>7</td>\n",
       "      <td>63.15</td>\n",
       "      <td>3</td>\n",
       "      <td>3</td>\n",
       "      <td>4</td>\n",
       "      <td>334</td>\n",
       "      <td>10</td>\n",
       "      <td>Can't Loose Them</td>\n",
       "    </tr>\n",
       "    <tr>\n",
       "      <th>4005941333</th>\n",
       "      <td>1</td>\n",
       "      <td>47</td>\n",
       "      <td>1359.24</td>\n",
       "      <td>1</td>\n",
       "      <td>1</td>\n",
       "      <td>1</td>\n",
       "      <td>111</td>\n",
       "      <td>3</td>\n",
       "      <td>Require Activation</td>\n",
       "    </tr>\n",
       "    <tr>\n",
       "      <th>4005941434</th>\n",
       "      <td>0</td>\n",
       "      <td>89</td>\n",
       "      <td>676.81</td>\n",
       "      <td>1</td>\n",
       "      <td>1</td>\n",
       "      <td>1</td>\n",
       "      <td>111</td>\n",
       "      <td>3</td>\n",
       "      <td>Require Activation</td>\n",
       "    </tr>\n",
       "    <tr>\n",
       "      <th>4005941533</th>\n",
       "      <td>2</td>\n",
       "      <td>79</td>\n",
       "      <td>2351.00</td>\n",
       "      <td>2</td>\n",
       "      <td>1</td>\n",
       "      <td>1</td>\n",
       "      <td>211</td>\n",
       "      <td>4</td>\n",
       "      <td>Needs Attention</td>\n",
       "    </tr>\n",
       "  </tbody>\n",
       "</table>\n",
       "</div>"
      ],
      "text/plain": [
       "            recency  frequency  monetary_value  r_quartile  f_quartile  \\\n",
       "cust_id                                                                  \n",
       "4005940437        0        202         2225.08           1           1   \n",
       "4005940737        5          7           63.15           3           3   \n",
       "4005941333        1         47         1359.24           1           1   \n",
       "4005941434        0         89          676.81           1           1   \n",
       "4005941533        2         79         2351.00           2           1   \n",
       "\n",
       "            m_quartile RFMScore  RFM_level_Score           RFM_Level  \n",
       "cust_id                                                               \n",
       "4005940437           1      111                3  Require Activation  \n",
       "4005940737           4      334               10    Can't Loose Them  \n",
       "4005941333           1      111                3  Require Activation  \n",
       "4005941434           1      111                3  Require Activation  \n",
       "4005941533           1      211                4     Needs Attention  "
      ]
     },
     "execution_count": 21,
     "metadata": {},
     "output_type": "execute_result"
    }
   ],
   "source": [
    "segmented_rfm['RFM_Level'] = segmented_rfm.apply(rfm_level, axis=1)\n",
    "segmented_rfm.head()"
   ]
  },
  {
   "cell_type": "markdown",
   "metadata": {},
   "source": [
    "#### finding average values for each RFM level and the count of segmented customers in each RFM level"
   ]
  },
  {
   "cell_type": "code",
   "execution_count": 22,
   "metadata": {},
   "outputs": [
    {
     "name": "stdout",
     "output_type": "stream",
     "text": [
      "                   recency frequency monetary_value      \n",
      "                      mean      mean           mean count\n",
      "RFM_Level                                                \n",
      "Can't Loose Them       4.1       5.5           86.8  4537\n",
      "Champions              3.6      14.4          253.6  1547\n",
      "Loyal                  3.1      19.1          364.3  1534\n",
      "Needs Attention        1.8      61.2         1313.9  1127\n",
      "Potential              3.3      31.5          660.7  1500\n",
      "Promising              2.5      42.0          907.7  1421\n",
      "Require Activation     0.6      86.2         1789.6   823\n"
     ]
    }
   ],
   "source": [
    "# Calculate average values for each RFM_Level, and return a size of each segment \n",
    "rfm_level_agg = segmented_rfm.groupby('RFM_Level').agg({\n",
    "    'recency': 'mean',\n",
    "    'frequency': 'mean',\n",
    "    'monetary_value': ['mean', 'count']\n",
    "}).round(1)\n",
    "\n",
    "# Print the aggregated dataset\n",
    "print(rfm_level_agg)"
   ]
  },
  {
   "cell_type": "markdown",
   "metadata": {},
   "source": [
    "From here, we can see that a large percentage (~60%) of our customers are in the top tier RFM levels. The company must be doing something right to be maintaining their loyalty.\n",
    "\n",
    "The other 40% will need some work. Let’s explore using some ads to re-target them:\n",
    "\n",
    "Potential — high potential to enter our loyal customer segments, why not throw in some freebies on their next purchase to show that you value them!\n",
    "\n",
    "Promising — showing promising signs with quantity and value of their purchase but it has been a while since they last bought sometime from you. Let’s target them with their wishlist items and a limited time offer discount.\n",
    "\n",
    "Needs Attention — made some initial purchase but have not seen them since. Was it a bad customer experience? Or product-market fit? Let’s spend some resource build our brand awareness with them.\n",
    "\n",
    "Require Activation — Poorest performers of our RFM model. They might have went with our competitors for now and will require a different activation strategy to win them back.\n",
    "\n",
    "#### There are around 4500 customers which the company cant loose which is labelled as \"Cant loose them\".If the company focus on these customers specifically by providing extra benefits or perks, it will help their customer retention by 36%."
   ]
  },
  {
   "cell_type": "markdown",
   "metadata": {},
   "source": [
    "#### Plotting to see the customer segmentation based on RFM level"
   ]
  },
  {
   "cell_type": "code",
   "execution_count": 23,
   "metadata": {},
   "outputs": [
    {
     "data": {
      "image/png": "[encoded data removed]",
      "text/plain": [
       "<Figure size 864x576 with 1 Axes>"
      ]
     },
     "metadata": {
      "needs_background": "light"
     },
     "output_type": "display_data"
    }
   ],
   "source": [
    "plt.figure(figsize=(12,8))\n",
    "sns.countplot(x='RFM_Level', data=segmented_rfm)\n",
    "plt.ylabel('Count', fontsize=12)\n",
    "plt.xlabel('RFM_Level', fontsize=12)\n",
    "plt.xticks(rotation='vertical')\n",
    "plt.title('Customer Segmentation based on RFC Level', fontsize=15)\n",
    "plt.show()"
   ]
  },
  {
   "cell_type": "code",
   "execution_count": null,
   "metadata": {},
   "outputs": [],
   "source": []
  }
 ],
 "metadata": {
  "kernelspec": {
   "display_name": "Python 3",
   "language": "python",
   "name": "python3"
  },
  "language_info": {
   "codemirror_mode": {
    "name": "ipython",
    "version": 3
   },
   "file_extension": ".py",
   "mimetype": "text/x-python",
   "name": "python",
   "nbconvert_exporter": "python",
   "pygments_lexer": "ipython3",
   "version": "3.7.6"
  }
 },
 "nbformat": 4,
 "nbformat_minor": 2
}
